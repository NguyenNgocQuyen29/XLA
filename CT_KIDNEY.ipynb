{
  "nbformat": 4,
  "nbformat_minor": 0,
  "metadata": {
    "colab": {
      "provenance": [],
      "authorship_tag": "ABX9TyPXGMKHv8mANNAiPoLczOWO",
      "include_colab_link": true
    },
    "kernelspec": {
      "name": "python3",
      "display_name": "Python 3"
    },
    "language_info": {
      "name": "python"
    }
  },
  "cells": [
    {
      "cell_type": "markdown",
      "metadata": {
        "id": "view-in-github",
        "colab_type": "text"
      },
      "source": [
        "<a href=\"https://colab.research.google.com/github/NguyenNgocQuyen29/XLA/blob/main/CT_KIDNEY.ipynb\" target=\"_parent\"><img src=\"https://colab.research.google.com/assets/colab-badge.svg\" alt=\"Open In Colab\"/></a>"
      ]
    },
    {
      "cell_type": "markdown",
      "source": [
        "***1. Khai báo các thư viện cần sử dụng ***"
      ],
      "metadata": {
        "id": "UzXU99vjaqwZ"
      }
    },
    {
      "cell_type": "code",
      "execution_count": null,
      "metadata": {
        "id": "QZFtqBsEYYoK"
      },
      "outputs": [],
      "source": [
        "!pip install tensorflow"
      ]
    },
    {
      "cell_type": "code",
      "source": [
        "import numpy as np\n",
        "import pickle \n",
        "import os\n",
        "import cv2\n",
        "import tensorflow as tf\n",
        "import matplotlib.pyplot as plt\n",
        "import random\n",
        "from tqdm import tqdm"
      ],
      "metadata": {
        "id": "cYOkp-SLa2Un"
      },
      "execution_count": null,
      "outputs": []
    },
    {
      "cell_type": "markdown",
      "source": [
        "**2. Kết nối với Google Drive để đọc và lưu dữ liệu**"
      ],
      "metadata": {
        "id": "l5ql39X0a9u0"
      }
    },
    {
      "cell_type": "code",
      "source": [
        "from google.colab import drive\n",
        "drive.mount('/content/drive')"
      ],
      "metadata": {
        "id": "C2kKziPcbAwo",
        "colab": {
          "base_uri": "https://localhost:8080/"
        },
        "outputId": "00b22301-71b1-4af2-97b0-11c243b6a2eb"
      },
      "execution_count": null,
      "outputs": [
        {
          "output_type": "stream",
          "name": "stdout",
          "text": [
            "Drive already mounted at /content/drive; to attempt to forcibly remount, call drive.mount(\"/content/drive\", force_remount=True).\n"
          ]
        }
      ]
    },
    {
      "cell_type": "markdown",
      "source": [
        "**3. Khai báo đường dẫn,đọc và xử lí hình ảnh**"
      ],
      "metadata": {
        "id": "hw7PHlgX7SFm"
      }
    },
    {
      "cell_type": "code",
      "source": [
        "datadir = \"/content/drive/MyDrive/XLA/Train\"\n",
        "\n",
        "IMG_SIZE = 100\n",
        "#sắp xếp nhãn dữ liệu\n",
        "categories = [\"Cyst\" , \"Normal\", \"Stone\" ,\"Tumor\"]\n",
        "training_data = []\n",
        "\n",
        "#đọc hình ảnh và xử lí hình ảnh trong thư mục hiện tại ,hình ảnh đọc được là ảnh xám,thay đổi kích thước và thêm vào danh sách training_data tương ứng với số lớp tương ứng\n",
        "\n",
        "def create_training_data(): #hàm do người dùng định nghĩa,có khả năng tạo dữ liệu huấn luyện\n",
        "    for category in categories:   #category sẽ lấy giá trị trong danh sach categories\n",
        "\n",
        " #bên trong vòng lặp tạo một đường dẫn đến thư mục hiện tại bằng cách sử dụng os.path.join() ,trong đó datadir là thư mục chính chứa tất cả thư mục (train), category là thư mục đang được xử lí \n",
        "        path = os.path.join(datadir,category)  \n",
        "#xác định số class trong thư mục ,số lớp nó sẽ đại diện cho chỉ mục của danh mục hiện tại \n",
        "        class_num = categories.index(category)  \n",
        "\n",
        "#tqdm tạo thanh tiến trình ,theo dõi quá trình xử lí trong vòng lặp\n",
        "\n",
        "        for img in tqdm(os.listdir(path)): #lặp qua từng tệp tin trong cái danh sách (os.listdir(path) được trả về với img: là tên của mỗi tệp tin trong danh sách\n",
        "        #các dòng lệnh trong khối try được thực thi để đọc và xử lí nếu có bất kì lỗi nào trong quá trình đọc và thực thi thì khối lệnh except sẽ xử lí\n",
        "            try:\n",
        "                img_array = cv2.imread(os.path.join(path,img) ,cv2.IMREAD_GRAYSCALE)  #đọc hình ảnh từ đường dẫn được tạo bằng cách kết hợp path với img(hình ảnh đọc đc lưu trong biến ing_array) , trong trường hợp này mình sẽ đọc ảnh xám\n",
        "                new_array = cv2.resize(img_array, (IMG_SIZE, IMG_SIZE))  #thay đổi kích thước thành kích thước mong muốn (100,100),hình ảnh sau khi thay đổi lưu vào trong biến neww_array\n",
        "                training_data.append([new_array, class_num])  #thêm thư mục mới vào trong danh sách training_data,bao gồm hình ảnh sau khi thay thổi kích thước (new_array) và số lớp tương ứng (class_num)\n",
        "            except Exception as e:  #khối lệnh trong try nếu có lỗi sẽ bị bắt lỗi bỡi exception và lỗi được gán cho e ,trong trường hợp này bỏ qua\n",
        "                pass\n",
        "create_training_data()\n",
        "\n",
        "print(\"Số lượng dữ liệu huấn luyện:\", len(training_data)) #xem độ dài của training_Data"
      ],
      "metadata": {
        "colab": {
          "base_uri": "https://localhost:8080/"
        },
        "id": "bvcv7cvh7YJu",
        "outputId": "b457e7ea-8de7-4cf5-f3b8-1238ff96f83e"
      },
      "execution_count": null,
      "outputs": [
        {
          "output_type": "stream",
          "name": "stderr",
          "text": [
            "100%|██████████| 3600/3600 [00:22<00:00, 158.71it/s]\n",
            "100%|██████████| 2897/2897 [00:22<00:00, 126.84it/s]\n",
            "100%|██████████| 1320/1320 [00:08<00:00, 151.00it/s]\n",
            "100%|██████████| 2224/2224 [00:14<00:00, 153.95it/s]"
          ]
        },
        {
          "output_type": "stream",
          "name": "stdout",
          "text": [
            "Số lượng dữ liệu huấn luyện: 10040\n"
          ]
        },
        {
          "output_type": "stream",
          "name": "stderr",
          "text": [
            "\n"
          ]
        }
      ]
    },
    {
      "cell_type": "markdown",
      "source": [
        "**4. Xử lí danh sách,tách và định hình lại các mảng tính năng và in ra hình dạng của mảng tinh năng và nhãn**"
      ],
      "metadata": {
        "id": "Ic34pSXgcfmd"
      }
    },
    {
      "cell_type": "code",
      "source": [
        "#tạo danh sách trống để lưu trữ tính năng (dữ liệu hình ảnh) và nhãn tương ứng\n",
        "X = []\n",
        "y = []\n",
        "\n",
        "for features,label in training_data:  #lặp lại từng phần tử trong danh sách training_data, mỗi phần tử bao gốm tính năng vã nhãn\n",
        "#thu thập dữ liệu hình ảnh và các nhãn tương ứng vào các danh sách riêng biệt\n",
        "    X.append(features)   #nối tính năng vào danh sách X\n",
        "    y.append(label)      #nối nhãn vào danh sách Y\n",
        "X = np.array(X).reshape(-1, IMG_SIZE, IMG_SIZE, 1)  #chuyển đổi danh sách X thành mảng numpy,tạo ra một mảng numpy gồm danh sách dữ liệu hình ảnh, -1 dùng để suy ra số lượng mẫu;size:kích thước,1 là số lượng kênh màu (xám)\n",
        "y = np.array(y) #chuyển đổi danh sách Y thành mảng numpy,tạo ra một mảng numpy gồm danh sách nhãn\n",
        "\n",
        "#hiển thị kích thước của các mảng\n",
        "print('X:',X.shape)\n",
        "print('y:',y.shape)\n"
      ],
      "metadata": {
        "colab": {
          "base_uri": "https://localhost:8080/"
        },
        "id": "qJ9QcsbrPmns",
        "outputId": "74001090-cee9-463e-969d-4a7398fee328"
      },
      "execution_count": null,
      "outputs": [
        {
          "output_type": "stream",
          "name": "stdout",
          "text": [
            "X: (10040, 100, 100, 1)\n",
            "y: (10040,)\n"
          ]
        }
      ]
    },
    {
      "cell_type": "code",
      "source": [
        "\n",
        "pickle_out = open(\"/content/drive/MyDrive/XLA/save/X1.pickle\", \"wb\")\n",
        "pickle.dump(X, pickle_out)\n",
        "pickle_out.close()\n",
        "\n",
        "pickle_out = open(\"/content/drive/MyDrive/XLA/save/y1.pickle\", \"wb\")\n",
        "pickle.dump(y, pickle_out)\n",
        "pickle_out.close()\n",
        "\n",
        "print(\"Hoàn thành xây dựng tập dữ liệu\")"
      ],
      "metadata": {
        "colab": {
          "base_uri": "https://localhost:8080/"
        },
        "id": "IWv9Yp3Rhfh-",
        "outputId": "8ce0d3ed-819f-4c5c-dbce-bb536419f73e"
      },
      "execution_count": null,
      "outputs": [
        {
          "output_type": "stream",
          "name": "stdout",
          "text": [
            "Hoàn thành xây dựng tập dữ liệu\n"
          ]
        }
      ]
    },
    {
      "cell_type": "markdown",
      "source": [
        "**5. Xây dựng mô hình**"
      ],
      "metadata": {
        "id": "1bMWSc6vdqhN"
      }
    },
    {
      "cell_type": "code",
      "source": [
        "#khai báo các thư viện cần thiết\n",
        "import numpy as np\n",
        "import pickle\n",
        "import matplotlib.pyplot as plt\n",
        "import keras\n",
        "from keras.models import Sequential\n",
        "from keras.datasets import cifar10\n",
        "from keras.layers import Dense, Dropout, Activation, Flatten, Dropout\n",
        "from keras.layers import MaxPool2D, Conv2D\n",
        "from keras.utils import np_utils"
      ],
      "metadata": {
        "id": "gozXN4agdXdQ"
      },
      "execution_count": null,
      "outputs": []
    },
    {
      "cell_type": "code",
      "source": [
        "#Load X, y từ file pickle ở drive và kiểm tra\n",
        "pickle_in = open(\"/content/drive/MyDrive/XLA/save/X1.pickle\",\"rb\")\n",
        "X = pickle.load(pickle_in)\n",
        "pickle_in = open(\"/content/drive/MyDrive/XLA/save/y1.pickle\",\"rb\")\n",
        "y = pickle.load(pickle_in)\n",
        "\n",
        "X = X/255.0\n",
        "\n",
        "print('X:',X.shape)\n",
        "print('y:',y.shape)"
      ],
      "metadata": {
        "colab": {
          "base_uri": "https://localhost:8080/"
        },
        "id": "rZu8fA0sipff",
        "outputId": "502b8d1c-f870-406f-dccc-e947369282f8"
      },
      "execution_count": null,
      "outputs": [
        {
          "output_type": "stream",
          "name": "stdout",
          "text": [
            "X: (10040, 100, 100, 1)\n",
            "y: (10040,)\n"
          ]
        }
      ]
    },
    {
      "cell_type": "code",
      "source": [
        "\n",
        "from keras.models import Sequential\n",
        "from keras.layers import Dense, Dropout, Conv2D, MaxPooling2D, Flatten\n",
        "#mô hình này chỉ sử dụng 3 lớp CNN vì nó chỉ phân loại 4 lớp khác nhau\n",
        "model = Sequential()\n",
        "\n",
        "#layer1\n",
        "model.add(Conv2D(32,(3,3), padding='same', activation = 'relu', input_shape = (100,100,1)))\n",
        "model.add(MaxPool2D(pool_size = (2,2)))\n",
        "#model.add(Dropout(0.2))\n",
        "\n",
        "#layer2\n",
        "model.add(Conv2D(64,(3,3),padding='same', activation = 'relu'))\n",
        "model.add(MaxPool2D(pool_size = (2,2)))\n",
        "#model.add(Dropout(0.2))\n",
        "\n",
        "#layer3\n",
        "model.add(Conv2D(128,(3,3),padding='same', activation = 'relu'))\n",
        "model.add(MaxPool2D(pool_size = (2,2)))\n",
        "#model.add(Dropout(0.2))\n",
        "\n",
        "#FCN layer\n",
        "model.add(Flatten())\n",
        "model.add(Dense(128, activation = 'relu'))\n",
        "model.add(Dense(4))\n",
        "model.add(Activation('softmax'))"
      ],
      "metadata": {
        "id": "SboX7Pe8dwxM"
      },
      "execution_count": null,
      "outputs": []
    },
    {
      "cell_type": "code",
      "source": [
        "# Tiến hành huấn luyện mô hình\n",
        "model.compile(optimizer='adam', loss='sparse_categorical_crossentropy', metrics=['accuracy'])"
      ],
      "metadata": {
        "id": "Y3oue00JlSsG"
      },
      "execution_count": null,
      "outputs": []
    },
    {
      "cell_type": "code",
      "source": [
        "model.fit(X, y, batch_size = 16, epochs = 10, verbose = 1, validation_split = 0.2)"
      ],
      "metadata": {
        "colab": {
          "base_uri": "https://localhost:8080/"
        },
        "id": "VPRpO3BKpxq0",
        "outputId": "618ea1c2-7c11-4c51-e802-9c2fe4948efe"
      },
      "execution_count": null,
      "outputs": [
        {
          "output_type": "stream",
          "name": "stdout",
          "text": [
            "Epoch 1/10\n",
            "502/502 [==============================] - 124s 246ms/step - loss: 0.1583 - accuracy: 0.9401 - val_loss: 9.9927 - val_accuracy: 0.2082\n",
            "Epoch 2/10\n",
            "502/502 [==============================] - 123s 246ms/step - loss: 0.0116 - accuracy: 0.9971 - val_loss: 11.1463 - val_accuracy: 0.2326\n",
            "Epoch 3/10\n",
            "502/502 [==============================] - 127s 252ms/step - loss: 7.9032e-05 - accuracy: 1.0000 - val_loss: 12.0707 - val_accuracy: 0.2311\n",
            "Epoch 4/10\n",
            "502/502 [==============================] - 129s 256ms/step - loss: 3.5159e-05 - accuracy: 1.0000 - val_loss: 12.8671 - val_accuracy: 0.2331\n",
            "Epoch 5/10\n",
            "502/502 [==============================] - 124s 247ms/step - loss: 2.0617e-05 - accuracy: 1.0000 - val_loss: 13.4359 - val_accuracy: 0.2321\n",
            "Epoch 6/10\n",
            "502/502 [==============================] - 128s 255ms/step - loss: 1.2650e-05 - accuracy: 1.0000 - val_loss: 13.8644 - val_accuracy: 0.2336\n",
            "Epoch 7/10\n",
            "502/502 [==============================] - 124s 247ms/step - loss: 8.3688e-06 - accuracy: 1.0000 - val_loss: 14.3417 - val_accuracy: 0.2291\n",
            "Epoch 8/10\n",
            "502/502 [==============================] - 127s 253ms/step - loss: 5.7630e-06 - accuracy: 1.0000 - val_loss: 14.7035 - val_accuracy: 0.2291\n",
            "Epoch 9/10\n",
            "502/502 [==============================] - 125s 249ms/step - loss: 4.0757e-06 - accuracy: 1.0000 - val_loss: 15.1444 - val_accuracy: 0.2291\n",
            "Epoch 10/10\n",
            "502/502 [==============================] - 125s 250ms/step - loss: 2.9580e-06 - accuracy: 1.0000 - val_loss: 15.4470 - val_accuracy: 0.2296\n"
          ]
        },
        {
          "output_type": "execute_result",
          "data": {
            "text/plain": [
              "<keras.callbacks.History at 0x7fd261d147f0>"
            ]
          },
          "metadata": {},
          "execution_count": 64
        }
      ]
    },
    {
      "cell_type": "code",
      "source": [
        "#Lưu model vào drive\n",
        "model.save('/content/drive/MyDrive/XLA/KIDNEY.h5')"
      ],
      "metadata": {
        "id": "vi0pWPQfrTwJ"
      },
      "execution_count": null,
      "outputs": []
    },
    {
      "cell_type": "code",
      "source": [
        "#@title test model\n",
        "import cv2\n",
        "import matplotlib.pyplot as plt\n",
        "import numpy as np\n",
        "import keras\n",
        "import tensorflow as tf\n",
        "from keras.preprocessing import image\n",
        "from keras.models import load_model\n",
        "\n",
        "#Load model từ drive\n",
        "model = load_model('/content/drive/MyDrive/XLA/KIDNEY.h5')\n",
        "\n",
        "#Kiểm tra model\n",
        "model.summary()"
      ],
      "metadata": {
        "colab": {
          "base_uri": "https://localhost:8080/"
        },
        "id": "kE_1NtsdrzyP",
        "outputId": "21327749-9aed-49c2-e64c-d2d01ffaa29a"
      },
      "execution_count": null,
      "outputs": [
        {
          "output_type": "stream",
          "name": "stdout",
          "text": [
            "Model: \"sequential_4\"\n",
            "_________________________________________________________________\n",
            " Layer (type)                Output Shape              Param #   \n",
            "=================================================================\n",
            " conv2d_12 (Conv2D)          (None, 100, 100, 32)      320       \n",
            "                                                                 \n",
            " max_pooling2d_12 (MaxPoolin  (None, 50, 50, 32)       0         \n",
            " g2D)                                                            \n",
            "                                                                 \n",
            " conv2d_13 (Conv2D)          (None, 50, 50, 64)        18496     \n",
            "                                                                 \n",
            " max_pooling2d_13 (MaxPoolin  (None, 25, 25, 64)       0         \n",
            " g2D)                                                            \n",
            "                                                                 \n",
            " conv2d_14 (Conv2D)          (None, 25, 25, 128)       73856     \n",
            "                                                                 \n",
            " max_pooling2d_14 (MaxPoolin  (None, 12, 12, 128)      0         \n",
            " g2D)                                                            \n",
            "                                                                 \n",
            " flatten_4 (Flatten)         (None, 18432)             0         \n",
            "                                                                 \n",
            " dense_8 (Dense)             (None, 128)               2359424   \n",
            "                                                                 \n",
            " dense_9 (Dense)             (None, 4)                 516       \n",
            "                                                                 \n",
            " activation_4 (Activation)   (None, 4)                 0         \n",
            "                                                                 \n",
            "=================================================================\n",
            "Total params: 2,452,612\n",
            "Trainable params: 2,452,612\n",
            "Non-trainable params: 0\n",
            "_________________________________________________________________\n"
          ]
        }
      ]
    },
    {
      "cell_type": "code",
      "source": [
        "#Chọn link drive hình ảnh cần test\n",
        "img_test = '/content/drive/MyDrive/XLA/Test/Normal/Normal- (1225).jpg'\n",
        "\n",
        "#Xử lí ảnh trước khi phân loại\n",
        "categories = [\"Cyst\" , \"Normal\", \"Stone\" ,\"Tumor\"]\n",
        "def prepare(filepath):\n",
        "  IMG_SIZE =100\n",
        "  img_array = cv2.imread(filepath, cv2.IMREAD_GRAYSCALE)\n",
        "  new_array = cv2.resize(img_array, (100,100))\n",
        "  new_array = new_array/255.0\n",
        "  return new_array.reshape(-1,100,100,1)\n",
        "\n",
        "#Hiển thị ảnh đã qua xử lí\n",
        "plt.imshow(np.squeeze(prepare(img_test)),cmap='gray')\n",
        "plt.show()\n",
        "print('Hình ảnh đã qua xử lí')"
      ],
      "metadata": {
        "colab": {
          "base_uri": "https://localhost:8080/",
          "height": 450
        },
        "id": "CkysUOZ-mEg6",
        "outputId": "b4182372-a473-478b-99dd-f46b0dffbe07"
      },
      "execution_count": null,
      "outputs": [
        {
          "output_type": "display_data",
          "data": {
            "text/plain": [
              "<Figure size 640x480 with 1 Axes>"
            ],
            "image/png": "[encoded data removed]"
          },
          "metadata": {}
        },
        {
          "output_type": "stream",
          "name": "stdout",
          "text": [
            "Hình ảnh đã qua xử lí\n"
          ]
        }
      ]
    },
    {
      "cell_type": "code",
      "source": [
        "prediction = model.predict([prepare(img_test)])\n",
        "print('Tên bệnh: ' + str(categories[int(np.argmax(prediction))]))\n",
        "\n",
        "#Phân loại"
      ],
      "metadata": {
        "colab": {
          "base_uri": "https://localhost:8080/"
        },
        "id": "pKF7Qrs4po2U",
        "outputId": "bba5d89e-0f71-472e-e704-704174c1749f"
      },
      "execution_count": null,
      "outputs": [
        {
          "output_type": "stream",
          "name": "stdout",
          "text": [
            "1/1 [==============================] - 0s 31ms/step\n",
            "Tên bệnh: Normal\n"
          ]
        }
      ]
    },
    {
      "cell_type": "code",
      "source": [
        "#Chọn link drive hình ảnh cần test\n",
        "img_test = '/content/drive/MyDrive/XLA/Test/Stone/Stone- (1326).jpg'\n",
        "\n",
        "#Xử lí ảnh trước khi phân loại\n",
        "categories = [\"Cyst\" , \"Normal\", \"Stone\" ,\"Tumor\"]\n",
        "def prepare(filepath):\n",
        "  IMG_SIZE =100\n",
        "  img_array = cv2.imread(filepath, cv2.IMREAD_GRAYSCALE)\n",
        "  new_array = cv2.resize(img_array, (100,100))\n",
        "  new_array = new_array/255.0\n",
        "  return new_array.reshape(-1,100,100,1)\n",
        "\n",
        "#Hiển thị ảnh đã qua xử lí\n",
        "plt.imshow(np.squeeze(prepare(img_test)),cmap='gray')\n",
        "plt.show()\n",
        "print('Hình ảnh đã qua xử lí')"
      ],
      "metadata": {
        "colab": {
          "base_uri": "https://localhost:8080/",
          "height": 450
        },
        "id": "ovObgIk8qiQR",
        "outputId": "91c82134-d891-476f-80e3-f37533f68c2c"
      },
      "execution_count": null,
      "outputs": [
        {
          "output_type": "display_data",
          "data": {
            "text/plain": [
              "<Figure size 640x480 with 1 Axes>"
            ],
            "image/png": "[encoded data removed]"
          },
          "metadata": {}
        },
        {
          "output_type": "stream",
          "name": "stdout",
          "text": [
            "Hình ảnh đã qua xử lí\n"
          ]
        }
      ]
    },
    {
      "cell_type": "code",
      "source": [
        "plt.show()\n",
        "\n",
        "prediction = model.predict([prepare(img_test)])\n",
        "print(prediction)\n",
        "print('Giá trị dự đoán: ' + str(np.argmax(prediction)))\n",
        "print('')\n",
        "print('Tên bệnh: ' + str(categories[int(np.argmax(prediction))]))\n",
        "\n",
        "#Phân loại"
      ],
      "metadata": {
        "colab": {
          "base_uri": "https://localhost:8080/"
        },
        "id": "Q4Yg5QO8qsDF",
        "outputId": "d715093f-189b-472f-ce47-281cbeadbe4c"
      },
      "execution_count": null,
      "outputs": [
        {
          "output_type": "stream",
          "name": "stdout",
          "text": [
            "1/1 [==============================] - 0s 26ms/step\n",
            "[[1.5508153e-17 2.2726458e-17 1.0000000e+00 5.5513868e-20]]\n",
            "Giá trị dự đoán: 2\n",
            "\n",
            "Tên bệnh: Stone\n"
          ]
        }
      ]
    }
  ]
}